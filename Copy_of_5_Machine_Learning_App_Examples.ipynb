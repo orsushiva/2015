{
  "nbformat": 4,
  "nbformat_minor": 0,
  "metadata": {
    "colab": {
      "name": "Copy of 5 Machine Learning App Examples",
      "provenance": [],
      "include_colab_link": true
    },
    "kernelspec": {
      "name": "python3",
      "display_name": "Python 3"
    }
  },
  "cells": [
    {
      "cell_type": "markdown",
      "metadata": {
        "id": "view-in-github",
        "colab_type": "text"
      },
      "source": [
        "<a href=\"https://colab.research.google.com/github/orsushiva/2015/blob/master/Copy_of_5_Machine_Learning_App_Examples.ipynb\" target=\"_parent\"><img src=\"https://colab.research.google.com/assets/colab-badge.svg\" alt=\"Open In Colab\"/></a>"
      ]
    },
    {
      "cell_type": "markdown",
      "metadata": {
        "id": "n4JiA8jvUgwV",
        "colab_type": "text"
      },
      "source": [
        "## 5 AI Startup Examples\n",
        "\n",
        "![alt text](https://i.imgur.com/pBua7UF.png)\n",
        "\n",
        "- Example 1 (Medicine): Dermatitis Detection\n",
        "- Example 2 (Entertainment): Script Generator\n",
        "- Example 3 (Finance): Price Prediction\n",
        "- Example 4 (Recruiting): Resume Scanner\n",
        "- Example 5 (Security): Threat Detection\n"
      ]
    },
    {
      "cell_type": "markdown",
      "metadata": {
        "id": "A7iT3vxMVZNc",
        "colab_type": "text"
      },
      "source": [
        "## Example 1: Dermatitis Detection Service \n",
        "\n",
        "- Code: https://github.com/MichaelChoudhury/dermatitisDetector\n",
        "- Demo: https://dermatitisdetector.onrender.com/ \n",
        "- Dataset: https://www.kaggle.com/michaelchoudhury/dermatitis \n",
        "\n",
        "### Explanation:\n",
        "- Classification service for trainee dermatologists to help diagnose skin diseases using a simple web app programmed in Python-3.\n",
        "\n",
        "### Team \n",
        "- Michael Choudary\n",
        "- Iman Idris\n",
        "- Dr Purshottam\n",
        "\n",
        "### Tools Used:\n",
        "- PyTorch\n",
        "- ![alt text](https://image.slidesharecdn.com/pytorchtutorial-2017-1103-171102090953/95/pytorch-tutorial-for-ntu-machine-learing-course-2017-13-638.jpg?cb=1509614336)\n",
        "\n",
        "- Fast.AI\n",
        "- ![alt text](https://miro.medium.com/max/1672/1*tux2WnspAJI_HxXXIjQArg.png)\n",
        "\n",
        "- Starlette\n",
        "- ![alt text](https://raw.githubusercontent.com/encode/starlette-example/master/docs/index.png)\n",
        "\n",
        "- Paypal\n",
        "- ![alt text](http://www.davisonavenuepta.com/uploads/7/5/1/9/7519774/paypal-logo_1_orig.png )\n",
        "\n"
      ]
    },
    {
      "cell_type": "markdown",
      "metadata": {
        "id": "wm5CvhS4aqbs",
        "colab_type": "text"
      },
      "source": [
        "## Example 2 - Entertainment: Script Generator\n",
        "\n",
        "- Code: https://github.com/rgreschner/siraj-make-money-with-machine-learning-midterm-tng-scriptgen\n",
        "- Demo: http://rgtest42-amazon.de/ \n",
        "- Dataset: http://www.st-minutiae.com/resources/scripts/index.html#thenextgeneration \n",
        "\n",
        "### Explanation:\n",
        "A service which supplies AI-generated transcripts of entirely new episodes of \"Star Trek: The Next Generation\" to a user. This could be used for persons in the creative industry to simply generate proposals and prompts for writing.\n",
        "\n",
        "### Team:\n",
        "Ralph Greschner\n",
        "\n",
        "### Tools Used:\n",
        "- Docker\n",
        "- ![alt text](https://www.accenture.com/t20180417T023306Z__w__/us-en/_acnmedia/Accenture/Conversion-Assets/Blogs/Images/35/Accenture-Virtual-Machine-Docker-Fig1.pngla=en)\n",
        "- NestJS: Node, Google Oauth\n",
        "- ![alt text](https://pbs.twimg.com/media/DbpfUVkU0AAWPke.jpg)\n",
        "- Angular\n",
        "![alt text](https://www.tristatetechnology.com/tristate-website/blog/wp-content/uploads/2017/09/Why-AngularJS-A1.jpg)\n",
        "- gpt_2_simple Python package\n",
        "- https://github.com/minimaxir/gpt-2-simple \n"
      ]
    },
    {
      "cell_type": "markdown",
      "metadata": {
        "id": "il0QzSRVckjD",
        "colab_type": "text"
      },
      "source": [
        "## Example 3 - Cryptocurrency Price Prediction\n",
        "\n",
        "- Code: https://github.com/akmuthun/crypto_predictor_app\n",
        "- Demo: http://45.79.23.203/\n",
        "- Dataset: Yahoo Finance Cryptocurrency\n",
        "\n",
        "#### Explanation:\n",
        "It will predict crypto prices for 5-days and plot it in a graph\n",
        "\n",
        "### Team:\n",
        "Amila Muthunayake\n",
        "\n",
        "### Tools used:\n",
        "- Flask\n",
        "- ![alt text](https://dzone.com/storage/temp/11726008-python-flask.jpg )\n",
        "- Tensorflow LSTM RNN \n",
        "- ![alt text](https://image.slidesharecdn.com/electricitypriceforecasting-160617195753/95/electricity-price-forecasting-with-recurrent-neural-networks-20-638.jpg?cb=1466221932)\n",
        "\n"
      ]
    },
    {
      "cell_type": "markdown",
      "metadata": {
        "id": "UuSEkPEAed5W",
        "colab_type": "text"
      },
      "source": [
        "## Example 4 - Automatic Threat Detection\n",
        "- Code: https://github.com/shoumikgoswami/Detect-X-app\n",
        "- Demo: https://detectx.onrender.com/\n",
        "- Dataset: https://domingomery.ing.puc.cl/material/gdxray/\n",
        "\n",
        "### Explanation\n",
        "- Automatic threat detection using AI to improve the security checking procedure at airports, shopping malls or any populated areas. \n",
        "\n",
        "### Team:\n",
        "- Shoumik Goswami\n",
        "- Tejas Kumar\n",
        "- Shant Behera\n",
        "- Sophy Hsu\n",
        "\n",
        "### Tools Used:\n",
        "- Keras\n",
        "- ![alt text](https://engmrk.com/wp-content/uploads/2018/06/Keras-Basic.png)\n",
        "- Render\n",
        "- ![alt text](https://render.com/og-img.png )"
      ]
    },
    {
      "cell_type": "markdown",
      "metadata": {
        "id": "jGOv6jMXnO5D",
        "colab_type": "text"
      },
      "source": [
        "## Example 5 - Resume Rater\n",
        "\n",
        "- Code: https://github.com/ZhengTzer/resume-scanner/blob/master/app.py\n",
        "- Demo: https://resume-scanner.onrender.com/\n",
        "- Dataset: None! Online Learning\n",
        "\n",
        "### Explanation:\n",
        "Know the % your resume match with job description\n",
        "\n",
        "### Team:\n",
        "Zheng Tzer\n",
        "\n",
        "### Tools Used:\n",
        "- Flask\n",
        "- Scikit learn\n",
        "- ![alt text](https://www.inria.fr/var/inria/storage/images/medias/saclay/innovation-images/chapo/saclay-riidata-scikit-learn-260x195/1111030-1-fre-FR/saclay-riidata-scikit-learn-260x195_vignette.jpg)\n",
        "- Pandas\n",
        "- ![alt text](https://miro.medium.com/max/819/1*Dss7A8Z-M4x8LD9ccgw7pQ.png)"
      ]
    }
  ]
}